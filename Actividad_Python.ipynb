{
  "nbformat": 4,
  "nbformat_minor": 0,
  "metadata": {
    "colab": {
      "provenance": [],
      "include_colab_link": true
    },
    "kernelspec": {
      "name": "python3",
      "display_name": "Python 3"
    },
    "language_info": {
      "name": "python"
    }
  },
  "cells": [
    {
      "cell_type": "markdown",
      "metadata": {
        "id": "view-in-github",
        "colab_type": "text"
      },
      "source": [
        "<a href=\"https://colab.research.google.com/github/edithel/Curso-de-Git/blob/main/Actividad_Python.ipynb\" target=\"_parent\"><img src=\"https://colab.research.google.com/assets/colab-badge.svg\" alt=\"Open In Colab\"/></a>"
      ]
    },
    {
      "cell_type": "code",
      "source": [
        "resultados = []\n",
        "\n",
        "num1 = 2\n",
        "num2 = 5\n",
        "resultado = num1 + num2\n",
        "resultados.append(resultado)\n",
        "print(resultados)\n",
        "print(type(resultados))\n",
        "print(len(resultados))"
      ],
      "metadata": {
        "id": "NxrYOzvIVQ90",
        "colab": {
          "base_uri": "https://localhost:8080/"
        },
        "outputId": "832007f8-5a57-4f21-f1cb-10ecd8c40586"
      },
      "execution_count": null,
      "outputs": [
        {
          "output_type": "stream",
          "name": "stdout",
          "text": [
            "[7]\n",
            "<class 'list'>\n",
            "1\n"
          ]
        }
      ]
    },
    {
      "cell_type": "code",
      "source": [
        "def elementos():\n",
        "  return [1, 2, 3, 4, 5]\n",
        "\n",
        "#range(inicio, len(lista), pasos)\n",
        "\n",
        "for numero in elementos():\n",
        "  print(numero)"
      ],
      "metadata": {
        "id": "f4iIVPLpb6OZ",
        "colab": {
          "base_uri": "https://localhost:8080/"
        },
        "outputId": "28a8cad5-3796-45f2-fc17-5a32725e1644"
      },
      "execution_count": null,
      "outputs": [
        {
          "output_type": "stream",
          "name": "stdout",
          "text": [
            "1\n",
            "2\n",
            "3\n",
            "4\n"
          ]
        }
      ]
    },
    {
      "cell_type": "markdown",
      "source": [
        "# Consignas:\n",
        "1. Definir cuatro funciones en Python para realizar las operaciones básicas de suma, resta, multiplicación y división. Cada función debe recibir dos argumentos y devolver el resultado de la operación correspondiente.\n",
        "2. Crear una quinta función llamada calculadora que permita al usuario elegir una operación y dos números para realizar la operación correspondiente. La función debe imprimir el resultado de la operación en pantalla.\n",
        "3. Utilizar un bucle while para permitir al usuario realizar varias operaciones consecutivas hasta que decida salir de la calculadora."
      ],
      "metadata": {
        "id": "cM2FHXHzWzRs"
      }
    },
    {
      "cell_type": "code",
      "source": [
        "#definimos la suma:\n",
        "def suma(num1, num2):\n",
        "  return num1 + num2\n",
        "\n",
        "#definimos la resta:\n",
        "def resta(num1, num2):\n",
        "  return num1 - num2\n",
        "\n",
        "#definimos la multiplicacion:\n",
        "def multiplicacion(num1, num2):\n",
        "  return num1 * num2\n",
        "\n",
        "#definimos la multiplicacion:\n",
        "def division(num1, num2):\n",
        "  return num1 / num2\n",
        "\n",
        "#controlar los inputs del usuario float(input())\n",
        "\n",
        "def calculadora():\n",
        "  print(\"Que operación quieres realizar?\")\n",
        "  print(\"1. suma\")\n",
        "  print(\"2. resta\")\n",
        "  print(\"3. multiplicacion\")\n",
        "  print(\"4. division\")\n",
        "\n",
        "  opcion = int(input(\"Cual operacion deseas?\"))\n",
        "  num1 = float(input(\"Primer numero: \"))\n",
        "  num2 = float(input(\"Segundo numero: \"))\n",
        "\n",
        "  if opcion == 1:\n",
        "    resultado = suma(num1, num2)\n",
        "    print(f\"El resultado de la suma de {num1} y {num2} es: {resultado}\")\n",
        "  elif opcion == 2:\n",
        "    resultado = resta(num1, num2)\n",
        "    print(f\"El resultado de la resta de {num1} y {num2} es: {resultado}\")\n",
        "  elif opcion == 3:\n",
        "    resultado = multiplicacion(num1, num2)\n",
        "    print(f\"El resultado de la multiplicacion de {num1} y {num2} es: {resultado}\")\n",
        "  elif opcion == 4:\n",
        "    resultado = division(num1, num2)\n",
        "    print(f\"El resultado de la division de {num1} y {num2} es: {resultado}\")\n",
        "  else:\n",
        "    print(\"Opción invalida\")\n",
        "    \n",
        "\n",
        "#Bucle while para controlar las operaciones que el usuario realiza:\n",
        "\n",
        "while True:\n",
        "  calculadora()\n",
        "  continuar = input(\"Deseas realizar otra operacion? (s/n): \")\n",
        "  if continuar.lower() == \"n\":\n",
        "    break\n",
        "\n",
        "\n",
        "\n"
      ],
      "metadata": {
        "id": "hCyou8Sdb6fD",
        "colab": {
          "base_uri": "https://localhost:8080/"
        },
        "outputId": "0aebdc7e-aa2e-44fb-f273-1659681ab3fe"
      },
      "execution_count": null,
      "outputs": [
        {
          "name": "stdout",
          "output_type": "stream",
          "text": [
            "Que operación quieres realizar?\n",
            "1. suma\n",
            "2. resta\n",
            "3. multiplicacion\n",
            "4. division\n",
            "Cual operacion deseas?2\n",
            "Primer numero: 12\n",
            "Segundo numero: 6\n",
            "El resultado de la resta de 12.0 y 6.0 es: 6.0\n",
            "Deseas realizar otra operacion? (s/n): s\n",
            "Que operación quieres realizar?\n",
            "1. suma\n",
            "2. resta\n",
            "3. multiplicacion\n",
            "4. division\n",
            "Cual operacion deseas?3\n",
            "Primer numero: 5\n",
            "Segundo numero: 5\n",
            "El resultado de la multiplicacion de 5.0 y 5.0 es: 25.0\n",
            "Deseas realizar otra operacion? (s/n): n\n"
          ]
        }
      ]
    },
    {
      "cell_type": "markdown",
      "source": [
        "## Suma de dos números\n",
        "Consigna: Define una función llamada suma que reciba dos parámetros numéricos y devuelva la suma de ambos."
      ],
      "metadata": {
        "id": "L0K9MP_xYHsT"
      }
    },
    {
      "cell_type": "code",
      "source": [],
      "metadata": {
        "id": "JiwfhTDnbGny"
      },
      "execution_count": null,
      "outputs": []
    },
    {
      "cell_type": "markdown",
      "source": [
        "## Promedio de una lista de números\n",
        "Consigna: Define una función llamada promedio que reciba como parámetro una lista de números y devuelva el promedio de los mismos."
      ],
      "metadata": {
        "id": "T6cYZ4kkYH3_"
      }
    },
    {
      "cell_type": "code",
      "source": [],
      "metadata": {
        "id": "4wnkGkeQbHC6"
      },
      "execution_count": null,
      "outputs": []
    },
    {
      "cell_type": "markdown",
      "source": [
        "## Cálculo de factorial\n",
        "Consigna: Define una función llamada factorial que reciba como parámetro un número entero y devuelva su factorial. El factorial de un número es el producto de todos los números enteros positivos desde 1 hasta el número dado(n * factorial(n-1))."
      ],
      "metadata": {
        "id": "bgYU1OYtYH6v"
      }
    },
    {
      "cell_type": "code",
      "source": [],
      "metadata": {
        "id": "hiOKsxFSbHdw"
      },
      "execution_count": null,
      "outputs": []
    },
    {
      "cell_type": "markdown",
      "source": [
        "##Act5: Escribir un programa que lea una cadena de texto y muestre por pantalla cuántas veces aparece cada letra del alfabeto en la cadena. El programa debe ignorar los espacios y los caracteres no alfabéticos."
      ],
      "metadata": {
        "id": "EvuylkV_yzG7"
      }
    },
    {
      "cell_type": "code",
      "source": [
        "cadena = input(\"Ingrese una cadena de texto: \")\n",
        "frecuencias = {}\n",
        "\n",
        "for caracter in cadena:\n",
        "    if caracter.lower() >= 'a' and caracter.lower() <= 'z':\n",
        "        caracter = caracter.lower()\n",
        "        if caracter in frecuencias:\n",
        "            frecuencias[caracter] += 1\n",
        "        else:\n",
        "            frecuencias[caracter] = 1\n",
        "\n",
        "for letra in 'cadenadetextoestructurada':\n",
        "    if letra in frecuencias:\n",
        "        print(f\"La letra '{letra}' aparece {frecuencias[letra]} veces en la cadena.\")\n",
        "    else:\n",
        "        print(f\"La letra '{letra}' no aparece en la cadena.\")"
      ],
      "metadata": {
        "id": "27deH5MyyyDa"
      },
      "execution_count": null,
      "outputs": []
    }
  ]
}